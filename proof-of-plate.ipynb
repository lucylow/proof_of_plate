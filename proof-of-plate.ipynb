{
 "cells": [
  {
   "cell_type": "code",
   "execution_count": 1,
   "id": "5d46e834-2f4b-4938-ad1f-a4bf69ff31e5",
   "metadata": {},
   "outputs": [],
   "source": [
    "# AWS ASDI: https://aws.amazon.com/marketplace/pp/prodview-a5p4wkdat6cnc?sr=0-109&ref_=beagle&applicationId=AWSMPContessa#overview"
   ]
  },
  {
   "cell_type": "code",
   "execution_count": 2,
   "id": "a69968e8-5987-4249-a09c-5bc998d3afe5",
   "metadata": {},
   "outputs": [],
   "source": [
    "# Dataset Base: !aws s3 cp s3://intelinair-data-releases/agriculture-vision/cvpr_challenge_2021/supervised supervised --no-sign-request --recursive"
   ]
  },
  {
   "cell_type": "code",
   "execution_count": 3,
   "id": "eb4df7f8-6e06-4b8c-b070-584e2f97070c",
   "metadata": {},
   "outputs": [
    {
     "name": "stdout",
     "output_type": "stream",
     "text": [
      "Looking in indexes: https://pypi.org/simple, https://pip.repos.neuron.amazonaws.com\n",
      "Collecting Augmentor\n",
      "  Downloading Augmentor-0.2.10-py2.py3-none-any.whl (38 kB)\n",
      "Requirement already satisfied: numpy>=1.11.0 in /home/ec2-user/anaconda3/envs/tensorflow2_p38/lib/python3.8/site-packages (from Augmentor) (1.20.3)\n",
      "Requirement already satisfied: Pillow>=5.2.0 in /home/ec2-user/anaconda3/envs/tensorflow2_p38/lib/python3.8/site-packages (from Augmentor) (9.0.1)\n",
      "Requirement already satisfied: future>=0.16.0 in /home/ec2-user/anaconda3/envs/tensorflow2_p38/lib/python3.8/site-packages (from Augmentor) (0.18.2)\n",
      "Requirement already satisfied: tqdm>=4.9.0 in /home/ec2-user/anaconda3/envs/tensorflow2_p38/lib/python3.8/site-packages (from Augmentor) (4.62.3)\n",
      "Installing collected packages: Augmentor\n",
      "Successfully installed Augmentor-0.2.10\n",
      "\u001b[33mWARNING: You are using pip version 22.0.4; however, version 22.2.2 is available.\n",
      "You should consider upgrading via the '/home/ec2-user/anaconda3/envs/tensorflow2_p38/bin/python -m pip install --upgrade pip' command.\u001b[0m\u001b[33m\n",
      "\u001b[0m"
     ]
    }
   ],
   "source": [
    "!pip install Augmentor"
   ]
  },
  {
   "cell_type": "code",
   "execution_count": 4,
   "id": "55ef6ea1-ac1f-4bcc-bef6-16ee6d6e4254",
   "metadata": {},
   "outputs": [],
   "source": [
    "# !mkdir agriculturevision_dataset\n",
    "# !mkdir agriculturevision_dataset/drydown/\n",
    "# !mkdir agriculturevision_dataset/nutrient/"
   ]
  },
  {
   "cell_type": "code",
   "execution_count": 5,
   "id": "1e39cf14-126e-4ea3-9349-5e1bb82c40ca",
   "metadata": {},
   "outputs": [
    {
     "name": "stdout",
     "output_type": "stream",
     "text": [
      "Initialised with 1 image(s) found.\n",
      "Output directory set to agriculturevision_dataset/drydown/output."
     ]
    },
    {
     "name": "stderr",
     "output_type": "stream",
     "text": [
      "Processing <PIL.Image.Image image mode=RGB size=512x512 at 0x7F5A0410ADF0>: 100%|██████████| 1000/1000 [00:31<00:00, 31.61 Samples/s]                 \n"
     ]
    }
   ],
   "source": [
    "import Augmentor\n",
    "p = Augmentor.Pipeline(\"agriculturevision_dataset/drydown\")\n",
    "p.rotate(probability=0.7, max_left_rotation=10, max_right_rotation=10)\n",
    "p.zoom(probability=0.5, min_factor=1.1, max_factor=1.5)\n",
    "p.sample(1000)"
   ]
  },
  {
   "cell_type": "code",
   "execution_count": 6,
   "id": "8aeb1643-52d4-4bb4-a20b-76f9110633d7",
   "metadata": {},
   "outputs": [
    {
     "name": "stdout",
     "output_type": "stream",
     "text": [
      "Initialised with 1 image(s) found.\n",
      "Output directory set to agriculturevision_dataset/nutrient/output."
     ]
    },
    {
     "name": "stderr",
     "output_type": "stream",
     "text": [
      "Processing <PIL.Image.Image image mode=RGB size=512x512 at 0x7F59E277AF10>: 100%|██████████| 1000/1000 [00:32<00:00, 31.08 Samples/s]                 \n"
     ]
    }
   ],
   "source": [
    "import Augmentor\n",
    "p = Augmentor.Pipeline(\"agriculturevision_dataset/nutrient\")\n",
    "p.rotate(probability=0.7, max_left_rotation=10, max_right_rotation=10)\n",
    "p.zoom(probability=0.5, min_factor=1.1, max_factor=1.5)\n",
    "p.sample(1000)"
   ]
  },
  {
   "cell_type": "code",
   "execution_count": null,
   "id": "3d199015-4468-4917-b46b-126fccb2a8c3",
   "metadata": {},
   "outputs": [],
   "source": []
  }
 ],
 "metadata": {
  "kernelspec": {
   "display_name": "conda_tensorflow2_p38",
   "language": "python",
   "name": "conda_tensorflow2_p38"
  },
  "language_info": {
   "codemirror_mode": {
    "name": "ipython",
    "version": 3
   },
   "file_extension": ".py",
   "mimetype": "text/x-python",
   "name": "python",
   "nbconvert_exporter": "python",
   "pygments_lexer": "ipython3",
   "version": "3.8.12"
  }
 },
 "nbformat": 4,
 "nbformat_minor": 5
}
